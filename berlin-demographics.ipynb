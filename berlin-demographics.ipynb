{
 "cells": [
  {
   "cell_type": "code",
   "execution_count": 1,
   "id": "7cccd45d-42e7-440e-960a-6e99be624c4e",
   "metadata": {},
   "outputs": [
    {
     "ename": "SyntaxError",
     "evalue": "unterminated string literal (detected at line 3) (4113328465.py, line 3)",
     "output_type": "error",
     "traceback": [
      "\u001b[1;36m  Cell \u001b[1;32mIn[1], line 3\u001b[1;36m\u001b[0m\n\u001b[1;33m    df_german = pd.read_csv(\"C:\\Users\\aican\\2025-Ironhack\\Unit4-2025-CW18-19\\Unit4-D1-2025-04-30\\Unit4-2025-CW-18-19-Project-Berlin-Population\\german-true-uncleaned.csv)\u001b[0m\n\u001b[1;37m                            ^\u001b[0m\n\u001b[1;31mSyntaxError\u001b[0m\u001b[1;31m:\u001b[0m unterminated string literal (detected at line 3)\n"
     ]
    }
   ],
   "source": [
    "# Retrieve dataset with German nationality\n",
    "import pandas as pd\n",
    "df_german = pd.read_csv(\"C:\\Users\\aican\\2025-Ironhack\\Unit4-2025-CW18-19\\Unit4-D1-2025-04-30\\Unit4-2025-CW-18-19-Project-Berlin-Population\\german-true-uncleaned.csv)"
   ]
  },
  {
   "cell_type": "code",
   "execution_count": null,
   "id": "59c43f7b-a034-4a0c-ad6d-df9759b441cf",
   "metadata": {},
   "outputs": [],
   "source": []
  }
 ],
 "metadata": {
  "kernelspec": {
   "display_name": "Python [conda env:base] *",
   "language": "python",
   "name": "conda-base-py"
  },
  "language_info": {
   "codemirror_mode": {
    "name": "ipython",
    "version": 3
   },
   "file_extension": ".py",
   "mimetype": "text/x-python",
   "name": "python",
   "nbconvert_exporter": "python",
   "pygments_lexer": "ipython3",
   "version": "3.12.7"
  }
 },
 "nbformat": 4,
 "nbformat_minor": 5
}
